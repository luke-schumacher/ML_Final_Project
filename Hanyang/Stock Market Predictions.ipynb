{
 "cells": [
  {
   "cell_type": "code",
   "execution_count": 13,
   "id": "d6a3f750",
   "metadata": {},
   "outputs": [
    {
     "name": "stdout",
     "output_type": "stream",
     "text": [
      "[*********************100%***********************]  5 of 5 completed\n"
     ]
    },
    {
     "data": {
      "application/vnd.jupyter.widget-view+json": {
       "model_id": "c4ea5e0f14564a7aa75a7a1e946d3048",
       "version_major": 2,
       "version_minor": 0
      },
      "text/plain": [
       "  0%|          | 0/5 [00:00<?, ?it/s]"
      ]
     },
     "metadata": {},
     "output_type": "display_data"
    },
    {
     "data": {
      "application/vnd.jupyter.widget-view+json": {
       "model_id": "db24182e5b594a8cbdda7b8fca28de07",
       "version_major": 2,
       "version_minor": 0
      },
      "text/plain": [
       "  0%|          | 0/242 [00:00<?, ?it/s]"
      ]
     },
     "metadata": {},
     "output_type": "display_data"
    },
    {
     "data": {
      "application/vnd.jupyter.widget-view+json": {
       "model_id": "eb9e0c11e9384dab9aae8597ba0c61db",
       "version_major": 2,
       "version_minor": 0
      },
      "text/plain": [
       "  0%|          | 0/242 [00:00<?, ?it/s]"
      ]
     },
     "metadata": {},
     "output_type": "display_data"
    },
    {
     "data": {
      "application/vnd.jupyter.widget-view+json": {
       "model_id": "13c254715b7d403b9dc2e7ffba45bc69",
       "version_major": 2,
       "version_minor": 0
      },
      "text/plain": [
       "  0%|          | 0/242 [00:00<?, ?it/s]"
      ]
     },
     "metadata": {},
     "output_type": "display_data"
    },
    {
     "data": {
      "application/vnd.jupyter.widget-view+json": {
       "model_id": "753fab2f90d947949e0865b73c1da7f0",
       "version_major": 2,
       "version_minor": 0
      },
      "text/plain": [
       "  0%|          | 0/242 [00:00<?, ?it/s]"
      ]
     },
     "metadata": {},
     "output_type": "display_data"
    },
    {
     "data": {
      "application/vnd.jupyter.widget-view+json": {
       "model_id": "00264e0886b244e4b046031bd4913ddd",
       "version_major": 2,
       "version_minor": 0
      },
      "text/plain": [
       "  0%|          | 0/242 [00:00<?, ?it/s]"
      ]
     },
     "metadata": {},
     "output_type": "display_data"
    }
   ],
   "source": [
    "import pandas as pd\n",
    "import numpy as np\n",
    "from pmdarima.arima import AutoARIMA\n",
    "import plotly.express as px\n",
    "import plotly.graph_objects as go\n",
    "from tqdm.notebook import tqdm\n",
    "from sklearn.metrics import mean_squared_error\n",
    "from datetime import date, timedelta\n",
    "import yfinance as yf\n",
    "\n",
    "# Getting the date five years ago to download the current timeframe\n",
    "years = (date.today() - timedelta(weeks=260)).strftime(\"%Y-%m-%d\")\n",
    "# Stocks to analyze\n",
    "stocks = ['CI', 'EQIX', 'MSFT', 'GOLD','SEDG']\n",
    "# Getting the data for multiple stocks\n",
    "df = yf.download(stocks, start=years).dropna()\n",
    "# Storing the dataframes in a dictionary\n",
    "stock_df = {}\n",
    "for col in set(df.columns.get_level_values(0)):\n",
    "    \n",
    "    # Assigning the data for each stock in the dictionary\n",
    "    stock_df[col] = df[col]\n",
    "    \n",
    "\n",
    "# Finding the log returns\n",
    "stock_df['LogReturns'] = stock_df['Adj Close'].apply(np.log).diff().dropna()\n",
    "# Using Moving averages\n",
    "stock_df['MovAvg'] = stock_df['Adj Close'].rolling(10).mean().dropna()\n",
    "# Logarithmic scaling of the data and rounding the result\n",
    "stock_df['Log'] = stock_df['MovAvg'].apply(np.log).apply(lambda x: round(x, 2))\n",
    "\n",
    "\n",
    "\n",
    "# Days in the past to train on\n",
    "days_to_train = 180 \n",
    "\n",
    "# Days in the future to predict\n",
    "days_to_predict = 5\n",
    "\n",
    "# Establishing a new DF for predictions\n",
    "stock_df['Predictions'] = pd.DataFrame(index=stock_df['Log'].index,\n",
    "                                       columns=stock_df['Log'].columns)\n",
    "\n",
    "# Iterate through each stock\n",
    "for stock in tqdm(stocks):\n",
    "    \n",
    "    # Current predicted value\n",
    "    pred_val = 0\n",
    "    \n",
    "    # Training the model in a predetermined date range\n",
    "    for day in tqdm(range(1000, \n",
    "                          stock_df['Log'].shape[0]-days_to_predict)):        \n",
    "\n",
    "        # Data to use, containing a specific amount of days\n",
    "        training = stock_df['Log'][stock].iloc[day-days_to_train:day+1].dropna()\n",
    "        \n",
    "        # Determining if the actual value crossed the predicted value\n",
    "        cross = ((training[-1] >= pred_val >= training[-2]) or \n",
    "                 (training[-1] <= pred_val <= training[-2]))\n",
    "        \n",
    "        # Running the model when the latest training value crosses the predicted value or every other day \n",
    "        if cross or day % 2 == 0:\n",
    "\n",
    "            # Finding the best parameters\n",
    "            model    = AutoARIMA(start_p=0, start_q=0,\n",
    "                                 start_P=0, start_Q=0,\n",
    "                                 max_p=8, max_q=8,\n",
    "                                 max_P=5, max_Q=5,\n",
    "                                 error_action='ignore',\n",
    "                                 information_criterion='bic',\n",
    "                                 suppress_warnings=True)\n",
    "\n",
    "            # Getting predictions for the optimum parameters by fitting to the training set            \n",
    "            forecast = model.fit_predict(training,\n",
    "                                         n_periods=days_to_predict)\n",
    "\n",
    "            # Getting the last predicted value from the next N days\n",
    "            stock_df['Predictions'][stock].iloc[day:day+days_to_predict] = np.exp(forecast[-1])\n",
    "\n",
    "\n",
    "            # Updating the current predicted value\n",
    "            pred_val = forecast[-1]"
   ]
  },
  {
   "cell_type": "code",
   "execution_count": null,
   "id": "08734925",
   "metadata": {},
   "outputs": [],
   "source": []
  }
 ],
 "metadata": {
  "kernelspec": {
   "display_name": "Python 3 (ipykernel)",
   "language": "python",
   "name": "python3"
  },
  "language_info": {
   "codemirror_mode": {
    "name": "ipython",
    "version": 3
   },
   "file_extension": ".py",
   "mimetype": "text/x-python",
   "name": "python",
   "nbconvert_exporter": "python",
   "pygments_lexer": "ipython3",
   "version": "3.10.4"
  }
 },
 "nbformat": 4,
 "nbformat_minor": 5
}
